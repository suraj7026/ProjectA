{
 "cells": [
  {
   "cell_type": "code",
   "execution_count": 1,
   "id": "ce0474aa-6e12-469e-b6e0-c22c71639d97",
   "metadata": {},
   "outputs": [
    {
     "name": "stdout",
     "output_type": "stream",
     "text": [
      "Applied providers: ['CPUExecutionProvider'], with options: {'CPUExecutionProvider': {}}\n",
      "find model: InsightFaceModels\\models\\buffalo_l\\1k3d68.onnx landmark_3d_68 ['None', 3, 192, 192] 0.0 1.0\n",
      "Applied providers: ['CPUExecutionProvider'], with options: {'CPUExecutionProvider': {}}\n",
      "find model: InsightFaceModels\\models\\buffalo_l\\2d106det.onnx landmark_2d_106 ['None', 3, 192, 192] 0.0 1.0\n",
      "Applied providers: ['CPUExecutionProvider'], with options: {'CPUExecutionProvider': {}}\n",
      "find model: InsightFaceModels\\models\\buffalo_l\\det_10g.onnx detection [1, 3, '?', '?'] 127.5 128.0\n",
      "Applied providers: ['CPUExecutionProvider'], with options: {'CPUExecutionProvider': {}}\n",
      "find model: InsightFaceModels\\models\\buffalo_l\\genderage.onnx genderage ['None', 3, 96, 96] 0.0 1.0\n",
      "Applied providers: ['CPUExecutionProvider'], with options: {'CPUExecutionProvider': {}}\n",
      "find model: InsightFaceModels\\models\\buffalo_l\\w600k_r50.onnx recognition ['None', 3, 112, 112] 127.5 127.5\n",
      "set det-size: (640, 640)\n"
     ]
    }
   ],
   "source": [
    "import face_rec \n",
    "import pandas as pd\n",
    "import numpy as np\n",
    "import cv2 \n"
   ]
  },
  {
   "cell_type": "code",
   "execution_count": 2,
   "id": "99dea241-c237-4563-a758-aa68ae02d2f7",
   "metadata": {},
   "outputs": [
    {
     "data": {
      "text/plain": [
       "True"
      ]
     },
     "execution_count": 2,
     "metadata": {},
     "output_type": "execute_result"
    }
   ],
   "source": [
    "face_rec.r.ping()"
   ]
  },
  {
   "cell_type": "markdown",
   "id": "eb9a3d9d-6330-4f3e-8df1-89773dfa1677",
   "metadata": {},
   "source": [
    "## Getting Data\n"
   ]
  },
  {
   "cell_type": "code",
   "execution_count": 3,
   "id": "a13d3c48-7854-481f-9f1d-c9236e05b422",
   "metadata": {},
   "outputs": [
    {
     "data": {
      "text/html": [
       "<div>\n",
       "<style scoped>\n",
       "    .dataframe tbody tr th:only-of-type {\n",
       "        vertical-align: middle;\n",
       "    }\n",
       "\n",
       "    .dataframe tbody tr th {\n",
       "        vertical-align: top;\n",
       "    }\n",
       "\n",
       "    .dataframe thead th {\n",
       "        text-align: right;\n",
       "    }\n",
       "</style>\n",
       "<table border=\"1\" class=\"dataframe\">\n",
       "  <thead>\n",
       "    <tr style=\"text-align: right;\">\n",
       "      <th></th>\n",
       "      <th>Name_Roll</th>\n",
       "      <th>Features</th>\n",
       "      <th>Name</th>\n",
       "      <th>Roll</th>\n",
       "    </tr>\n",
       "  </thead>\n",
       "  <tbody>\n",
       "    <tr>\n",
       "      <th>0</th>\n",
       "      <td>SUDARSHAN R@21BAI1257</td>\n",
       "      <td>[0.60976905, -0.72095156, -0.741123, 1.5745338...</td>\n",
       "      <td>SUDARSHAN R</td>\n",
       "      <td>21BAI1257</td>\n",
       "    </tr>\n",
       "    <tr>\n",
       "      <th>1</th>\n",
       "      <td>RETHVIK MENON@21BCE1197</td>\n",
       "      <td>[0.6674871, 1.167889, -1.104369, 0.7670394, -0...</td>\n",
       "      <td>RETHVIK MENON</td>\n",
       "      <td>21BCE1197</td>\n",
       "    </tr>\n",
       "    <tr>\n",
       "      <th>2</th>\n",
       "      <td>MUKUNDH J@21BAI1133</td>\n",
       "      <td>[1.4518241, 0.758605, -0.44208556, 1.3326924, ...</td>\n",
       "      <td>MUKUNDH J</td>\n",
       "      <td>21BAI1133</td>\n",
       "    </tr>\n",
       "  </tbody>\n",
       "</table>\n",
       "</div>"
      ],
      "text/plain": [
       "                  Name_Roll  \\\n",
       "0     SUDARSHAN R@21BAI1257   \n",
       "1   RETHVIK MENON@21BCE1197   \n",
       "2       MUKUNDH J@21BAI1133   \n",
       "\n",
       "                                            Features            Name  \\\n",
       "0  [0.60976905, -0.72095156, -0.741123, 1.5745338...     SUDARSHAN R   \n",
       "1  [0.6674871, 1.167889, -1.104369, 0.7670394, -0...   RETHVIK MENON   \n",
       "2  [1.4518241, 0.758605, -0.44208556, 1.3326924, ...       MUKUNDH J   \n",
       "\n",
       "        Roll  \n",
       "0  21BAI1257  \n",
       "1  21BCE1197  \n",
       "2  21BAI1133  "
      ]
     },
     "execution_count": 3,
     "metadata": {},
     "output_type": "execute_result"
    }
   ],
   "source": [
    "name = 'academy:register'\n",
    "retrieve_dict = face_rec.r.hgetall(name = name)\n",
    "retrieve_series = pd.Series(retrieve_dict)\n",
    "retrieve_series = retrieve_series.apply(lambda x: np.frombuffer(x,dtype = np.float32))\n",
    "index = retrieve_series.index\n",
    "index = list(map(lambda x: x.decode(),index))\n",
    "retrieve_series.index = index\n",
    "retrieve_df = retrieve_series.to_frame().reset_index()\n",
    "retrieve_df.columns = [\"Name_Roll\",\"Features\"]\n",
    "retrieve_df[['Name','Roll']] = retrieve_df['Name_Roll'].apply(lambda x:x.split('@')).apply(pd.Series)\n",
    "retrieve_df.head()"
   ]
  },
  {
   "cell_type": "code",
   "execution_count": 4,
   "id": "f4f8de36-e229-4d05-a367-5eacdb0080f4",
   "metadata": {},
   "outputs": [],
   "source": [
    "feature_column = 'Features'"
   ]
  },
  {
   "cell_type": "markdown",
   "id": "0a58e0d1-1504-4994-83d4-da9fb32e88b3",
   "metadata": {},
   "source": [
    "## Real Time Prediction"
   ]
  },
  {
   "cell_type": "code",
   "execution_count": 5,
   "id": "3832065a-2bec-4b19-8457-de1899293055",
   "metadata": {},
   "outputs": [
    {
     "name": "stderr",
     "output_type": "stream",
     "text": [
      "C:\\Users\\sudar\\OneDrive\\Desktop\\AttendanceApp\\attendanceapp\\lib\\site-packages\\insightface\\utils\\transform.py:68: FutureWarning: `rcond` parameter will change to the default of machine precision times ``max(M, N)`` where M and N are the input matrix dimensions.\n",
      "To use the future default and silence this warning we advise to pass `rcond=None`, to keep using the old, explicitly pass `rcond=-1`.\n",
      "  P = np.linalg.lstsq(X_homo, Y)[0].T # Affine matrix. 3 x 4\n",
      "C:\\Users\\sudar\\OneDrive\\Desktop\\AttendanceApp\\attendanceapp\\lib\\site-packages\\insightface\\utils\\transform.py:68: FutureWarning: `rcond` parameter will change to the default of machine precision times ``max(M, N)`` where M and N are the input matrix dimensions.\n",
      "To use the future default and silence this warning we advise to pass `rcond=None`, to keep using the old, explicitly pass `rcond=-1`.\n",
      "  P = np.linalg.lstsq(X_homo, Y)[0].T # Affine matrix. 3 x 4\n",
      "C:\\Users\\sudar\\OneDrive\\Desktop\\AttendanceApp\\attendanceapp\\lib\\site-packages\\insightface\\utils\\transform.py:68: FutureWarning: `rcond` parameter will change to the default of machine precision times ``max(M, N)`` where M and N are the input matrix dimensions.\n",
      "To use the future default and silence this warning we advise to pass `rcond=None`, to keep using the old, explicitly pass `rcond=-1`.\n",
      "  P = np.linalg.lstsq(X_homo, Y)[0].T # Affine matrix. 3 x 4\n",
      "C:\\Users\\sudar\\OneDrive\\Desktop\\AttendanceApp\\attendanceapp\\lib\\site-packages\\insightface\\utils\\transform.py:68: FutureWarning: `rcond` parameter will change to the default of machine precision times ``max(M, N)`` where M and N are the input matrix dimensions.\n",
      "To use the future default and silence this warning we advise to pass `rcond=None`, to keep using the old, explicitly pass `rcond=-1`.\n",
      "  P = np.linalg.lstsq(X_homo, Y)[0].T # Affine matrix. 3 x 4\n",
      "C:\\Users\\sudar\\OneDrive\\Desktop\\AttendanceApp\\attendanceapp\\lib\\site-packages\\insightface\\utils\\transform.py:68: FutureWarning: `rcond` parameter will change to the default of machine precision times ``max(M, N)`` where M and N are the input matrix dimensions.\n",
      "To use the future default and silence this warning we advise to pass `rcond=None`, to keep using the old, explicitly pass `rcond=-1`.\n",
      "  P = np.linalg.lstsq(X_homo, Y)[0].T # Affine matrix. 3 x 4\n",
      "C:\\Users\\sudar\\OneDrive\\Desktop\\AttendanceApp\\attendanceapp\\lib\\site-packages\\insightface\\utils\\transform.py:68: FutureWarning: `rcond` parameter will change to the default of machine precision times ``max(M, N)`` where M and N are the input matrix dimensions.\n",
      "To use the future default and silence this warning we advise to pass `rcond=None`, to keep using the old, explicitly pass `rcond=-1`.\n",
      "  P = np.linalg.lstsq(X_homo, Y)[0].T # Affine matrix. 3 x 4\n",
      "C:\\Users\\sudar\\OneDrive\\Desktop\\AttendanceApp\\attendanceapp\\lib\\site-packages\\insightface\\utils\\transform.py:68: FutureWarning: `rcond` parameter will change to the default of machine precision times ``max(M, N)`` where M and N are the input matrix dimensions.\n",
      "To use the future default and silence this warning we advise to pass `rcond=None`, to keep using the old, explicitly pass `rcond=-1`.\n",
      "  P = np.linalg.lstsq(X_homo, Y)[0].T # Affine matrix. 3 x 4\n",
      "C:\\Users\\sudar\\OneDrive\\Desktop\\AttendanceApp\\attendanceapp\\lib\\site-packages\\insightface\\utils\\transform.py:68: FutureWarning: `rcond` parameter will change to the default of machine precision times ``max(M, N)`` where M and N are the input matrix dimensions.\n",
      "To use the future default and silence this warning we advise to pass `rcond=None`, to keep using the old, explicitly pass `rcond=-1`.\n",
      "  P = np.linalg.lstsq(X_homo, Y)[0].T # Affine matrix. 3 x 4\n",
      "C:\\Users\\sudar\\OneDrive\\Desktop\\AttendanceApp\\attendanceapp\\lib\\site-packages\\insightface\\utils\\transform.py:68: FutureWarning: `rcond` parameter will change to the default of machine precision times ``max(M, N)`` where M and N are the input matrix dimensions.\n",
      "To use the future default and silence this warning we advise to pass `rcond=None`, to keep using the old, explicitly pass `rcond=-1`.\n",
      "  P = np.linalg.lstsq(X_homo, Y)[0].T # Affine matrix. 3 x 4\n",
      "C:\\Users\\sudar\\OneDrive\\Desktop\\AttendanceApp\\attendanceapp\\lib\\site-packages\\insightface\\utils\\transform.py:68: FutureWarning: `rcond` parameter will change to the default of machine precision times ``max(M, N)`` where M and N are the input matrix dimensions.\n",
      "To use the future default and silence this warning we advise to pass `rcond=None`, to keep using the old, explicitly pass `rcond=-1`.\n",
      "  P = np.linalg.lstsq(X_homo, Y)[0].T # Affine matrix. 3 x 4\n",
      "C:\\Users\\sudar\\OneDrive\\Desktop\\AttendanceApp\\attendanceapp\\lib\\site-packages\\insightface\\utils\\transform.py:68: FutureWarning: `rcond` parameter will change to the default of machine precision times ``max(M, N)`` where M and N are the input matrix dimensions.\n",
      "To use the future default and silence this warning we advise to pass `rcond=None`, to keep using the old, explicitly pass `rcond=-1`.\n",
      "  P = np.linalg.lstsq(X_homo, Y)[0].T # Affine matrix. 3 x 4\n",
      "C:\\Users\\sudar\\OneDrive\\Desktop\\AttendanceApp\\attendanceapp\\lib\\site-packages\\insightface\\utils\\transform.py:68: FutureWarning: `rcond` parameter will change to the default of machine precision times ``max(M, N)`` where M and N are the input matrix dimensions.\n",
      "To use the future default and silence this warning we advise to pass `rcond=None`, to keep using the old, explicitly pass `rcond=-1`.\n",
      "  P = np.linalg.lstsq(X_homo, Y)[0].T # Affine matrix. 3 x 4\n",
      "C:\\Users\\sudar\\OneDrive\\Desktop\\AttendanceApp\\attendanceapp\\lib\\site-packages\\insightface\\utils\\transform.py:68: FutureWarning: `rcond` parameter will change to the default of machine precision times ``max(M, N)`` where M and N are the input matrix dimensions.\n",
      "To use the future default and silence this warning we advise to pass `rcond=None`, to keep using the old, explicitly pass `rcond=-1`.\n",
      "  P = np.linalg.lstsq(X_homo, Y)[0].T # Affine matrix. 3 x 4\n",
      "C:\\Users\\sudar\\OneDrive\\Desktop\\AttendanceApp\\attendanceapp\\lib\\site-packages\\insightface\\utils\\transform.py:68: FutureWarning: `rcond` parameter will change to the default of machine precision times ``max(M, N)`` where M and N are the input matrix dimensions.\n",
      "To use the future default and silence this warning we advise to pass `rcond=None`, to keep using the old, explicitly pass `rcond=-1`.\n",
      "  P = np.linalg.lstsq(X_homo, Y)[0].T # Affine matrix. 3 x 4\n",
      "C:\\Users\\sudar\\OneDrive\\Desktop\\AttendanceApp\\attendanceapp\\lib\\site-packages\\insightface\\utils\\transform.py:68: FutureWarning: `rcond` parameter will change to the default of machine precision times ``max(M, N)`` where M and N are the input matrix dimensions.\n",
      "To use the future default and silence this warning we advise to pass `rcond=None`, to keep using the old, explicitly pass `rcond=-1`.\n",
      "  P = np.linalg.lstsq(X_homo, Y)[0].T # Affine matrix. 3 x 4\n",
      "C:\\Users\\sudar\\OneDrive\\Desktop\\AttendanceApp\\attendanceapp\\lib\\site-packages\\insightface\\utils\\transform.py:68: FutureWarning: `rcond` parameter will change to the default of machine precision times ``max(M, N)`` where M and N are the input matrix dimensions.\n",
      "To use the future default and silence this warning we advise to pass `rcond=None`, to keep using the old, explicitly pass `rcond=-1`.\n",
      "  P = np.linalg.lstsq(X_homo, Y)[0].T # Affine matrix. 3 x 4\n",
      "C:\\Users\\sudar\\OneDrive\\Desktop\\AttendanceApp\\attendanceapp\\lib\\site-packages\\insightface\\utils\\transform.py:68: FutureWarning: `rcond` parameter will change to the default of machine precision times ``max(M, N)`` where M and N are the input matrix dimensions.\n",
      "To use the future default and silence this warning we advise to pass `rcond=None`, to keep using the old, explicitly pass `rcond=-1`.\n",
      "  P = np.linalg.lstsq(X_homo, Y)[0].T # Affine matrix. 3 x 4\n",
      "C:\\Users\\sudar\\OneDrive\\Desktop\\AttendanceApp\\attendanceapp\\lib\\site-packages\\insightface\\utils\\transform.py:68: FutureWarning: `rcond` parameter will change to the default of machine precision times ``max(M, N)`` where M and N are the input matrix dimensions.\n",
      "To use the future default and silence this warning we advise to pass `rcond=None`, to keep using the old, explicitly pass `rcond=-1`.\n",
      "  P = np.linalg.lstsq(X_homo, Y)[0].T # Affine matrix. 3 x 4\n"
     ]
    }
   ],
   "source": [
    "vid = cv2.VideoCapture(0) \n",
    "\n",
    "while(True): \n",
    "    ret, frame = vid.read() \n",
    "    if ret == False:\n",
    "        break\n",
    "\n",
    "    pred_frame = face_rec.face_recognition(frame,retrieve_df, feature_column, threshold=0.4, name_role=['Name', 'Roll'])\n",
    "    \n",
    "    # Display frame\n",
    "    # cv2.imshow('frame', frame) \n",
    "    cv2.imshow('prediction',pred_frame)\n",
    "\t\n",
    "\t\n",
    "    if cv2.waitKey(1) == 27: \n",
    "        break\n",
    "\n",
    "vid.release() \n",
    "cv2.destroyAllWindows() \n"
   ]
  },
  {
   "cell_type": "code",
   "execution_count": null,
   "id": "9bc492e7-7636-43a4-8550-27a5769ce94b",
   "metadata": {},
   "outputs": [],
   "source": []
  }
 ],
 "metadata": {
  "kernelspec": {
   "display_name": "Python 3 (ipykernel)",
   "language": "python",
   "name": "python3"
  },
  "language_info": {
   "codemirror_mode": {
    "name": "ipython",
    "version": 3
   },
   "file_extension": ".py",
   "mimetype": "text/x-python",
   "name": "python",
   "nbconvert_exporter": "python",
   "pygments_lexer": "ipython3",
   "version": "3.10.11"
  }
 },
 "nbformat": 4,
 "nbformat_minor": 5
}
